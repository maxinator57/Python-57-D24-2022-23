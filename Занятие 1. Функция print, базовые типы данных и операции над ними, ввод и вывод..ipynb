{
 "cells": [
  {
   "cell_type": "markdown",
   "id": "e9850863",
   "metadata": {},
   "source": [
    "# Введение в Python 3, занятие 1\n",
    "#### Функция `print`, базовые типы данных и операции над ними, ввод и вывод"
   ]
  },
  {
   "cell_type": "markdown",
   "id": "ee023cda",
   "metadata": {},
   "source": [
    "## Пишем \"Hello, world!\""
   ]
  },
  {
   "cell_type": "code",
   "execution_count": 1,
   "id": "ab4c87ed",
   "metadata": {},
   "outputs": [
    {
     "name": "stdout",
     "output_type": "stream",
     "text": [
      "Hello, world!\n",
      "Hello, world!\n"
     ]
    }
   ],
   "source": [
    "print(\"Hello, world!\") # функция print печатает на экран\n",
    "print('Hello, world!') # для задания строки можно использоваь как одинарные,\n",
    "                       # так и двойные кавычки"
   ]
  },
  {
   "cell_type": "code",
   "execution_count": 2,
   "id": "432dd86b",
   "metadata": {},
   "outputs": [
    {
     "data": {
      "text/plain": [
       "\"It's okay not to know Python\""
      ]
     },
     "execution_count": 2,
     "metadata": {},
     "output_type": "execute_result"
    }
   ],
   "source": [
    "'It\\'s okay not to know Python' # одинарную кавычку (') внутри строки\n",
    "                                # из одинарных кавычек можно \"заэкранировать\" --\n",
    "                                # поставить перед ней \\"
   ]
  },
  {
   "cell_type": "markdown",
   "id": "babdcdba",
   "metadata": {},
   "source": [
    "#### Можно печатать русские буквы:"
   ]
  },
  {
   "cell_type": "code",
   "execution_count": 3,
   "id": "59997816",
   "metadata": {},
   "outputs": [
    {
     "name": "stdout",
     "output_type": "stream",
     "text": [
      "Привет, мир!\n"
     ]
    }
   ],
   "source": [
    "print(\"Привет, мир!\")"
   ]
  },
  {
   "cell_type": "markdown",
   "id": "a293608c",
   "metadata": {},
   "source": [
    "#### Можно напечатать сразу несколько строк:"
   ]
  },
  {
   "cell_type": "code",
   "execution_count": 4,
   "id": "4cdc672c",
   "metadata": {},
   "outputs": [
    {
     "name": "stdout",
     "output_type": "stream",
     "text": [
      "Hello , world !\n"
     ]
    }
   ],
   "source": [
    "print(\"Hello\", \",\", \"world\", \"!\")"
   ]
  },
  {
   "cell_type": "markdown",
   "id": "84c3a392",
   "metadata": {},
   "source": [
    "#### Можно напечатать несколько строк через разделитель:"
   ]
  },
  {
   "cell_type": "code",
   "execution_count": 5,
   "id": "77f2922c",
   "metadata": {},
   "outputs": [
    {
     "name": "stdout",
     "output_type": "stream",
     "text": [
      "Hello***,***world***!\n"
     ]
    }
   ],
   "source": [
    "print('Hello', ',', \"world\", \"!\", sep=\"***\") # аргумент sep отвечает за разделитель"
   ]
  },
  {
   "cell_type": "markdown",
   "id": "0094c394",
   "metadata": {},
   "source": [
    "#### В качестве разделителя можно передать пустую строчку:"
   ]
  },
  {
   "cell_type": "code",
   "execution_count": 6,
   "id": "40bbc08e",
   "metadata": {},
   "outputs": [
    {
     "name": "stdout",
     "output_type": "stream",
     "text": [
      "Hello,world!\n"
     ]
    }
   ],
   "source": [
    "print('Hello', ',', \"world\", \"!\", sep=\"\")"
   ]
  },
  {
   "cell_type": "markdown",
   "id": "41773e17",
   "metadata": {},
   "source": [
    "#### Чтобы печатать каждое следующее слово на новой строке, передаём `sep='\\n'`:"
   ]
  },
  {
   "cell_type": "code",
   "execution_count": 7,
   "id": "247959a3",
   "metadata": {},
   "outputs": [
    {
     "name": "stdout",
     "output_type": "stream",
     "text": [
      "Hello\n",
      ",\n",
      "world\n",
      "!\n"
     ]
    }
   ],
   "source": [
    "print('Hello', ',', \"world\", \"!\", sep=\"\\n\")"
   ]
  },
  {
   "cell_type": "markdown",
   "id": "2b2c9c47",
   "metadata": {},
   "source": [
    "## Типы данных"
   ]
  },
  {
   "cell_type": "markdown",
   "id": "f00a35fa",
   "metadata": {},
   "source": [
    "### Целые числа (`int`) и числа с плавающей точкой (`float`)"
   ]
  },
  {
   "cell_type": "markdown",
   "id": "78ec73f8",
   "metadata": {},
   "source": [
    "#### Целые числа и числа с плавающей точкой можно печатать с помощью `print`:"
   ]
  },
  {
   "cell_type": "code",
   "execution_count": 8,
   "id": "d112185d",
   "metadata": {},
   "outputs": [
    {
     "name": "stdout",
     "output_type": "stream",
     "text": [
      "5 7 57 0.57\n"
     ]
    }
   ],
   "source": [
    "print(5, 7, 57, 0.57)"
   ]
  },
  {
   "cell_type": "markdown",
   "id": "94aceb91",
   "metadata": {},
   "source": [
    "#### Можно применять арифметические операции:"
   ]
  },
  {
   "cell_type": "code",
   "execution_count": 9,
   "id": "18153a22",
   "metadata": {},
   "outputs": [
    {
     "name": "stdout",
     "output_type": "stream",
     "text": [
      "12 -2 1.2\n"
     ]
    }
   ],
   "source": [
    "print(\n",
    "    5 + 7,\n",
    "    5 - 7,\n",
    "    0.5 + 0.7\n",
    ")"
   ]
  },
  {
   "cell_type": "markdown",
   "id": "adfe9ead",
   "metadata": {},
   "source": [
    "Умножение:"
   ]
  },
  {
   "cell_type": "code",
   "execution_count": 10,
   "id": "da958b41",
   "metadata": {},
   "outputs": [
    {
     "name": "stdout",
     "output_type": "stream",
     "text": [
      "35 3.5\n"
     ]
    }
   ],
   "source": [
    "print(5 * 7, 0.5 * 7) "
   ]
  },
  {
   "cell_type": "markdown",
   "id": "934c9b73",
   "metadata": {},
   "source": [
    "Деление:"
   ]
  },
  {
   "cell_type": "code",
   "execution_count": 11,
   "id": "2ec5733e",
   "metadata": {},
   "outputs": [
    {
     "name": "stdout",
     "output_type": "stream",
     "text": [
      "0.7142857142857143\n",
      "1.0\n",
      "15.0\n"
     ]
    }
   ],
   "source": [
    "# при делении мы всегда в качестве результата получаем float\n",
    "print(5 / 7)\n",
    "print(5 / 5)\n",
    "print(3 / 0.2)"
   ]
  },
  {
   "cell_type": "markdown",
   "id": "e1161017",
   "metadata": {},
   "source": [
    "Целочисленное деление (деление с остатком):"
   ]
  },
  {
   "cell_type": "code",
   "execution_count": 12,
   "id": "69e8585a",
   "metadata": {},
   "outputs": [
    {
     "name": "stdout",
     "output_type": "stream",
     "text": [
      "0 1 1 11\n"
     ]
    }
   ],
   "source": [
    "print(5 // 7,\n",
    "      5 // 5,\n",
    "      7 // 5,\n",
    "      57 // 5)"
   ]
  },
  {
   "cell_type": "markdown",
   "id": "c422914c",
   "metadata": {},
   "source": [
    "Можно поделить с остатком на нецелое число:"
   ]
  },
  {
   "cell_type": "code",
   "execution_count": 13,
   "id": "dcf773b0",
   "metadata": {},
   "outputs": [
    {
     "name": "stdout",
     "output_type": "stream",
     "text": [
      "7.0\n"
     ]
    }
   ],
   "source": [
    "print(5 // 0.7)"
   ]
  },
  {
   "cell_type": "markdown",
   "id": "8803b2bb",
   "metadata": {},
   "source": [
    "Отдельно взятие остатка:"
   ]
  },
  {
   "cell_type": "code",
   "execution_count": 14,
   "id": "2a189e07",
   "metadata": {},
   "outputs": [
    {
     "name": "stdout",
     "output_type": "stream",
     "text": [
      "2 5 0.10000000000000031\n"
     ]
    }
   ],
   "source": [
    "print(\n",
    "    7 % 5,\n",
    "    5 % 7,\n",
    "    5 % 0.7 # будет небольшая погрешность из-за\n",
    "            # неточности арифметики чисел с плавающей точкой\n",
    ")"
   ]
  },
  {
   "cell_type": "markdown",
   "id": "271e1e89",
   "metadata": {},
   "source": [
    "Возведение в степень:"
   ]
  },
  {
   "cell_type": "code",
   "execution_count": 15,
   "id": "588b96df",
   "metadata": {},
   "outputs": [
    {
     "name": "stdout",
     "output_type": "stream",
     "text": [
      "32\n",
      "512\n",
      "3.0\n",
      "0.5\n"
     ]
    }
   ],
   "source": [
    "print(2 ** 5)\n",
    "print(2 ** 3 ** 2) # 2^(3^2)\n",
    "print(9 ** 0.5)\n",
    "print(2 ** -1)"
   ]
  },
  {
   "cell_type": "markdown",
   "id": "b4a08209",
   "metadata": {},
   "source": [
    "Можно писать сколь угодно длинные математические выражения:"
   ]
  },
  {
   "cell_type": "code",
   "execution_count": 16,
   "id": "bfeaa78a",
   "metadata": {},
   "outputs": [
    {
     "name": "stdout",
     "output_type": "stream",
     "text": [
      "2\n"
     ]
    }
   ],
   "source": [
    "print((1 + 2 * (3 + 5) ** 2) // 57)"
   ]
  },
  {
   "cell_type": "markdown",
   "id": "df000dd8",
   "metadata": {},
   "source": [
    "Функции `min`, `max`, `abs`"
   ]
  },
  {
   "cell_type": "code",
   "execution_count": 17,
   "id": "1a380010",
   "metadata": {},
   "outputs": [
    {
     "name": "stdout",
     "output_type": "stream",
     "text": [
      "5 7 57 57\n"
     ]
    }
   ],
   "source": [
    "print(min(5, 7), max(5, 7), abs(-57), abs(57))"
   ]
  },
  {
   "cell_type": "markdown",
   "id": "1b2b9449",
   "metadata": {},
   "source": [
    "#### Функции `int()` и `float()`"
   ]
  },
  {
   "cell_type": "markdown",
   "id": "234b2fdf",
   "metadata": {},
   "source": [
    "Функция `int()` переводит значение в тип `int`:"
   ]
  },
  {
   "cell_type": "code",
   "execution_count": 18,
   "id": "0e14d730",
   "metadata": {},
   "outputs": [
    {
     "name": "stdout",
     "output_type": "stream",
     "text": [
      "0\n",
      "1\n"
     ]
    }
   ],
   "source": [
    "print(int(5 / 7)) # int() округляет вниз числа с плавающей точкой\n",
    "print(int(5 / 5))"
   ]
  },
  {
   "cell_type": "code",
   "execution_count": 19,
   "id": "58ee0769",
   "metadata": {},
   "outputs": [
    {
     "data": {
      "text/plain": [
       "1234"
      ]
     },
     "execution_count": 19,
     "metadata": {},
     "output_type": "execute_result"
    }
   ],
   "source": [
    "int('1234') # int() можно вызывать от строчки, в которой все символы -- цифры"
   ]
  },
  {
   "cell_type": "markdown",
   "id": "67bd76ce",
   "metadata": {},
   "source": [
    "Аналогично, функция `float()` переводит значение в тип `float`:"
   ]
  },
  {
   "cell_type": "code",
   "execution_count": 20,
   "id": "6372c9db",
   "metadata": {},
   "outputs": [
    {
     "name": "stdout",
     "output_type": "stream",
     "text": [
      "57.0 57.0 0.57\n"
     ]
    }
   ],
   "source": [
    "print(\n",
    "    float(57),\n",
    "    float('57'),\n",
    "    float('0.57')\n",
    ")"
   ]
  },
  {
   "cell_type": "markdown",
   "id": "b608cf01",
   "metadata": {},
   "source": [
    "### Строки (`str`)"
   ]
  },
  {
   "cell_type": "markdown",
   "id": "4eab26ef",
   "metadata": {},
   "source": [
    "Строки можно задавать одинарными или двойными кавычками:"
   ]
  },
  {
   "cell_type": "code",
   "execution_count": 21,
   "id": "50abcc7a",
   "metadata": {},
   "outputs": [],
   "source": [
    "s = \"abc5757\"\n",
    "t = '12345'\n",
    "# тут мы завели переменные s и t и записали в них соответствующие строки"
   ]
  },
  {
   "cell_type": "markdown",
   "id": "50690b78",
   "metadata": {},
   "source": [
    "#### Индексация"
   ]
  },
  {
   "cell_type": "markdown",
   "id": "333c8f8e",
   "metadata": {},
   "source": [
    "Символ строки по позиции (индексу):"
   ]
  },
  {
   "cell_type": "code",
   "execution_count": 22,
   "id": "b5b10c34",
   "metadata": {},
   "outputs": [
    {
     "data": {
      "text/plain": [
       "'b'"
      ]
     },
     "execution_count": 22,
     "metadata": {},
     "output_type": "execute_result"
    }
   ],
   "source": [
    "s[1] # строки и вообще все контейнеры в Python имеют 0-индексацию"
   ]
  },
  {
   "cell_type": "code",
   "execution_count": 23,
   "id": "e096aac4",
   "metadata": {},
   "outputs": [
    {
     "data": {
      "text/plain": [
       "'a'"
      ]
     },
     "execution_count": 23,
     "metadata": {},
     "output_type": "execute_result"
    }
   ],
   "source": [
    "s[0]"
   ]
  },
  {
   "cell_type": "markdown",
   "id": "fb19604e",
   "metadata": {},
   "source": [
    "Можно использовать отрицательные индексы, тогда позиция будет отсчитываться с конца строки:"
   ]
  },
  {
   "cell_type": "code",
   "execution_count": 24,
   "id": "935968e2",
   "metadata": {},
   "outputs": [
    {
     "data": {
      "text/plain": [
       "'5'"
      ]
     },
     "execution_count": 24,
     "metadata": {},
     "output_type": "execute_result"
    }
   ],
   "source": [
    "t[-1]"
   ]
  },
  {
   "cell_type": "code",
   "execution_count": 25,
   "id": "df808cdc",
   "metadata": {},
   "outputs": [
    {
     "data": {
      "text/plain": [
       "'4'"
      ]
     },
     "execution_count": 25,
     "metadata": {},
     "output_type": "execute_result"
    }
   ],
   "source": [
    "t[-2]"
   ]
  },
  {
   "cell_type": "markdown",
   "id": "a24b2ace",
   "metadata": {},
   "source": [
    "####  Срезы\n",
    "\n",
    "Можно взять подстроку с i-го по j-й элемент, это называется \"срез\""
   ]
  },
  {
   "cell_type": "code",
   "execution_count": 26,
   "id": "7a65e094",
   "metadata": {},
   "outputs": [
    {
     "name": "stdout",
     "output_type": "stream",
     "text": [
      "abc5757\n",
      "bc5\n"
     ]
    }
   ],
   "source": [
    "print(s)\n",
    "print(s[1:4]) # левая граница входит в срез, правая -- не входит"
   ]
  },
  {
   "cell_type": "code",
   "execution_count": 27,
   "id": "25956d73",
   "metadata": {},
   "outputs": [
    {
     "data": {
      "text/plain": [
       "''"
      ]
     },
     "execution_count": 27,
     "metadata": {},
     "output_type": "execute_result"
    }
   ],
   "source": [
    "s[3:1] # срез равен пустой строке, так как нет индексов i, таких что 3 <= i < 1"
   ]
  },
  {
   "cell_type": "markdown",
   "id": "5807ff85",
   "metadata": {},
   "source": [
    "Третьим параметром среза можно указать шаг:"
   ]
  },
  {
   "cell_type": "code",
   "execution_count": 28,
   "id": "e635f51f",
   "metadata": {},
   "outputs": [
    {
     "name": "stdout",
     "output_type": "stream",
     "text": [
      "abc5757\n",
      "5c\n"
     ]
    }
   ],
   "source": [
    "print(s)\n",
    "print(s[3:1:-1]) # подстрока выписывается справа налево,\n",
    "                 # 3-й символ входит, 1-й -- не входит"
   ]
  },
  {
   "cell_type": "code",
   "execution_count": 29,
   "id": "bb7fa12b",
   "metadata": {},
   "outputs": [
    {
     "name": "stdout",
     "output_type": "stream",
     "text": [
      "abc5757\n",
      "b5\n"
     ]
    }
   ],
   "source": [
    "print(s)\n",
    "print(s[1:5:2]) # прошли по подстроке s[1:5] с шагом 2: взяли 1-й и 3-й символы,\n",
    "                # 5-й не взяли, так как правая граница не входит в срез"
   ]
  },
  {
   "cell_type": "markdown",
   "id": "e6bf8a95",
   "metadata": {},
   "source": [
    "С помощью срезов удобно брать префиксы и суффиксы строки:"
   ]
  },
  {
   "cell_type": "code",
   "execution_count": 30,
   "id": "ecb91672",
   "metadata": {},
   "outputs": [
    {
     "name": "stdout",
     "output_type": "stream",
     "text": [
      "abc5757\n",
      "abc57\n",
      "57\n"
     ]
    }
   ],
   "source": [
    "print(s)\n",
    "print(s[:5]) # от 0-го до 4-го символа включительно\n",
    "print(s[5:]) # от 5-го символа до конца строки"
   ]
  },
  {
   "cell_type": "code",
   "execution_count": 31,
   "id": "7a87902d",
   "metadata": {},
   "outputs": [
    {
     "data": {
      "text/plain": [
       "'7575cba'"
      ]
     },
     "execution_count": 31,
     "metadata": {},
     "output_type": "execute_result"
    }
   ],
   "source": [
    "s[::-1] # разворот строки"
   ]
  },
  {
   "cell_type": "markdown",
   "id": "311bcc3a",
   "metadata": {},
   "source": [
    "Строки можно \"складывать\":"
   ]
  },
  {
   "cell_type": "code",
   "execution_count": 32,
   "id": "e86be3e8",
   "metadata": {},
   "outputs": [
    {
     "name": "stdout",
     "output_type": "stream",
     "text": [
      "abc5757\n",
      "12345\n",
      "abc575712345\n"
     ]
    }
   ],
   "source": [
    "print(s)\n",
    "print(t)\n",
    "print(s + t) # это называется \"конкатенацией\" строк s и t"
   ]
  },
  {
   "cell_type": "markdown",
   "id": "e806a4a7",
   "metadata": {},
   "source": [
    "Умножение строки на число:"
   ]
  },
  {
   "cell_type": "code",
   "execution_count": 33,
   "id": "b1c2b525",
   "metadata": {},
   "outputs": [
    {
     "name": "stdout",
     "output_type": "stream",
     "text": [
      "abc5757\n",
      "abc5757abc5757abc5757\n"
     ]
    }
   ],
   "source": [
    "print(s)\n",
    "print(s * 3) # умножение на n -- конкатенация с самой собой n раз"
   ]
  },
  {
   "cell_type": "markdown",
   "id": "95e7ddc3",
   "metadata": {},
   "source": [
    "Строки -- неизменяемый тип данных, то есть нельзя поменять символ строки по заданному индексу:"
   ]
  },
  {
   "cell_type": "code",
   "execution_count": 34,
   "id": "e460ea56",
   "metadata": {},
   "outputs": [
    {
     "ename": "TypeError",
     "evalue": "'str' object does not support item assignment",
     "output_type": "error",
     "traceback": [
      "\u001b[0;31m---------------------------------------------------------------------------\u001b[0m",
      "\u001b[0;31mTypeError\u001b[0m                                 Traceback (most recent call last)",
      "Input \u001b[0;32mIn [34]\u001b[0m, in \u001b[0;36m<cell line: 1>\u001b[0;34m()\u001b[0m\n\u001b[0;32m----> 1\u001b[0m \u001b[43ms\u001b[49m\u001b[43m[\u001b[49m\u001b[38;5;241;43m3\u001b[39;49m\u001b[43m]\u001b[49m \u001b[38;5;241m=\u001b[39m \u001b[38;5;124m\"\u001b[39m\u001b[38;5;124m*\u001b[39m\u001b[38;5;124m\"\u001b[39m\n",
      "\u001b[0;31mTypeError\u001b[0m: 'str' object does not support item assignment"
     ]
    }
   ],
   "source": [
    "s[3] = \"*\""
   ]
  },
  {
   "cell_type": "markdown",
   "id": "e8ec16df",
   "metadata": {},
   "source": [
    "Если нужна строка, равная данной строке с одним изменённым символом, можно воспользоваться срезами и конкатенацией:"
   ]
  },
  {
   "cell_type": "code",
   "execution_count": 35,
   "id": "f325ce6d",
   "metadata": {},
   "outputs": [
    {
     "data": {
      "text/plain": [
       "'abc*757'"
      ]
     },
     "execution_count": 35,
     "metadata": {},
     "output_type": "execute_result"
    }
   ],
   "source": [
    "s[:3] + '*' + s[4:]"
   ]
  },
  {
   "cell_type": "markdown",
   "id": "025ebe8d",
   "metadata": {},
   "source": [
    "**Полезные методы строк (https://docs.python.org/3/library/string.html):**"
   ]
  },
  {
   "cell_type": "code",
   "execution_count": 36,
   "id": "af8a5c16",
   "metadata": {},
   "outputs": [
    {
     "name": "stdout",
     "output_type": "stream",
     "text": [
      "abc5757\n",
      "3\n",
      "-1\n",
      "2\n"
     ]
    }
   ],
   "source": [
    "print(s)\n",
    "\n",
    "print(s.find('5')) # индекс первого вхождения\n",
    "print(s.find('#')) # если заданного символа нет в строке, результат find() равен -1\n",
    "print(s.count('5')) # сколько раз заданный символ встречается в строке"
   ]
  },
  {
   "cell_type": "markdown",
   "id": "0b386e23",
   "metadata": {},
   "source": [
    "### Функция `type()`"
   ]
  },
  {
   "cell_type": "markdown",
   "id": "fdf463d2",
   "metadata": {},
   "source": [
    "Функция `type()` позволяет узнать тип объекта в Python:"
   ]
  },
  {
   "cell_type": "code",
   "execution_count": 37,
   "id": "56f63199",
   "metadata": {},
   "outputs": [
    {
     "name": "stdout",
     "output_type": "stream",
     "text": [
      "<class 'int'>\n",
      "<class 'float'>\n",
      "<class 'str'>\n"
     ]
    }
   ],
   "source": [
    "print(type(1))\n",
    "print(type(1.0))\n",
    "print(type('1'))"
   ]
  },
  {
   "cell_type": "markdown",
   "id": "0ce9ca71",
   "metadata": {},
   "source": [
    "### Ввод и вывод данных"
   ]
  },
  {
   "cell_type": "markdown",
   "id": "e2f710b4",
   "metadata": {},
   "source": [
    "Выводим данные на экран с помощью `print`:"
   ]
  },
  {
   "cell_type": "code",
   "execution_count": 38,
   "id": "f45e89f6",
   "metadata": {},
   "outputs": [
    {
     "name": "stdout",
     "output_type": "stream",
     "text": [
      "And the answer is: 57\n"
     ]
    }
   ],
   "source": [
    "answer = 57\n",
    "print('And the answer is:', answer)"
   ]
  },
  {
   "cell_type": "markdown",
   "id": "9ac0f48f",
   "metadata": {},
   "source": [
    "Ввод данных осуществляем с помощью функции `input()`. Эта функция просто считывает строку со стандартного потока ввода."
   ]
  },
  {
   "cell_type": "code",
   "execution_count": 39,
   "id": "0f11569f",
   "metadata": {},
   "outputs": [
    {
     "name": "stdout",
     "output_type": "stream",
     "text": [
      "abacaba\n",
      "the given string is: abacaba\n"
     ]
    }
   ],
   "source": [
    "s = input()\n",
    "print('the given string is:', s)"
   ]
  },
  {
   "cell_type": "markdown",
   "id": "1cc3a002",
   "metadata": {},
   "source": [
    "Чтобы считать одно число в строке, вызываем `int()` от строки, которую считали с помощью `input()`:"
   ]
  },
  {
   "cell_type": "code",
   "execution_count": 40,
   "id": "521e3cbb",
   "metadata": {},
   "outputs": [
    {
     "name": "stdout",
     "output_type": "stream",
     "text": [
      "57\n",
      "the given int plus one is: 58\n"
     ]
    }
   ],
   "source": [
    "s = input()\n",
    "print('the given int plus one is:', int(s) + 1)"
   ]
  },
  {
   "cell_type": "markdown",
   "id": "675e2d69",
   "metadata": {},
   "source": [
    "Можно сразу вызвать `int(input())`:"
   ]
  },
  {
   "cell_type": "code",
   "execution_count": 41,
   "id": "2347a600",
   "metadata": {},
   "outputs": [
    {
     "name": "stdout",
     "output_type": "stream",
     "text": [
      "57\n",
      "x = 57\n",
      "x + 1 = 58\n"
     ]
    }
   ],
   "source": [
    "x = int(input()) # в переменную x будет записано значение типа int\n",
    "print('x =', x)\n",
    "print('x + 1 =', x + 1)"
   ]
  },
  {
   "cell_type": "markdown",
   "id": "e1895df2",
   "metadata": {},
   "source": [
    "Считываем два числа из одной строки:"
   ]
  },
  {
   "cell_type": "code",
   "execution_count": 42,
   "id": "8a0e6b59",
   "metadata": {},
   "outputs": [
    {
     "name": "stdout",
     "output_type": "stream",
     "text": [
      "5 7\n",
      "12\n"
     ]
    }
   ],
   "source": [
    "a, b = map(int, input().split()) # ниже разберёмся, что делает эта магия\n",
    "\n",
    "print(a + b)"
   ]
  },
  {
   "cell_type": "markdown",
   "id": "35c54016",
   "metadata": {},
   "source": [
    "1. C помощью `input()` считали строку '5 7'.\n",
    "2. У строки `'5 7'` вызвали метод `.split()`, который разбивает строку на подстроки по пробелам (при этом удаляя сами пробелы) и возвращает список из получившихся подстрок. То есть, результатом `'5 7'.split()` будет последовательность из строк `'5'` и `'7'`.\n",
    "3. `map(f, sequence)` применяет функцию `f` поэлементно к последовательности `sequence` и возвращает последовательность из результатов. То есть, `map(int, ['5', '7'])` применяет последовательно функцию `int()` к строкам `'5'` и `'7'` и возвращает последовательность результатов, то есть `[5, 7]`.\n",
    "4. `a, b = [последовательность из двух элементов]` записывает первый элемент последовательности в переменную `a`, второй элемент последовательности -- в переменную `b`. Если длина последовательности не равна числу переменных слева, будет ошибка. Отдельный пример такого синтаксиса ниже:"
   ]
  },
  {
   "cell_type": "code",
   "execution_count": 43,
   "id": "c752eaed",
   "metadata": {},
   "outputs": [
    {
     "name": "stdout",
     "output_type": "stream",
     "text": [
      "a: 5\n",
      "b: 7\n"
     ]
    }
   ],
   "source": [
    "a, b = 5, 7\n",
    "\n",
    "print('a:', a)\n",
    "print('b:', b)"
   ]
  },
  {
   "cell_type": "code",
   "execution_count": 44,
   "id": "02b1ee74",
   "metadata": {},
   "outputs": [
    {
     "name": "stdout",
     "output_type": "stream",
     "text": [
      "1 3 5 7 9\n"
     ]
    }
   ],
   "source": [
    "a, b, c, d, e = 1, 3, 5, 7, 9\n",
    "print(a, b, c, d, e)"
   ]
  },
  {
   "cell_type": "code",
   "execution_count": 45,
   "id": "ee0fd20e",
   "metadata": {},
   "outputs": [
    {
     "ename": "TypeError",
     "evalue": "cannot unpack non-iterable int object",
     "output_type": "error",
     "traceback": [
      "\u001b[0;31m---------------------------------------------------------------------------\u001b[0m",
      "\u001b[0;31mTypeError\u001b[0m                                 Traceback (most recent call last)",
      "Input \u001b[0;32mIn [45]\u001b[0m, in \u001b[0;36m<cell line: 1>\u001b[0;34m()\u001b[0m\n\u001b[0;32m----> 1\u001b[0m a, b \u001b[38;5;241m=\u001b[39m \u001b[38;5;241m1\u001b[39m\n",
      "\u001b[0;31mTypeError\u001b[0m: cannot unpack non-iterable int object"
     ]
    }
   ],
   "source": [
    "a, b = 1 # ошибка"
   ]
  },
  {
   "cell_type": "code",
   "execution_count": 46,
   "id": "9513f428",
   "metadata": {},
   "outputs": [
    {
     "ename": "ValueError",
     "evalue": "too many values to unpack (expected 2)",
     "output_type": "error",
     "traceback": [
      "\u001b[0;31m---------------------------------------------------------------------------\u001b[0m",
      "\u001b[0;31mValueError\u001b[0m                                Traceback (most recent call last)",
      "Input \u001b[0;32mIn [46]\u001b[0m, in \u001b[0;36m<cell line: 1>\u001b[0;34m()\u001b[0m\n\u001b[0;32m----> 1\u001b[0m a, b \u001b[38;5;241m=\u001b[39m \u001b[38;5;241m1\u001b[39m, \u001b[38;5;241m2\u001b[39m, \u001b[38;5;241m3\u001b[39m\n",
      "\u001b[0;31mValueError\u001b[0m: too many values to unpack (expected 2)"
     ]
    }
   ],
   "source": [
    "a, b = 1, 2, 3 # тоже ошибка"
   ]
  },
  {
   "cell_type": "markdown",
   "id": "3c362f3e",
   "metadata": {},
   "source": [
    "Одна из базовых идиом языка Python: меняем местами значения двух переменных одной строчкой кода:"
   ]
  },
  {
   "cell_type": "code",
   "execution_count": 47,
   "id": "e157e3f7",
   "metadata": {},
   "outputs": [
    {
     "name": "stdout",
     "output_type": "stream",
     "text": [
      "a: 5\n",
      "b: 7\n",
      "a: 7\n",
      "b: 5\n"
     ]
    }
   ],
   "source": [
    "a, b = 5, 7\n",
    "print('a:', a)\n",
    "print('b:', b)\n",
    "\n",
    "a, b = b, a # в этой строке меняем местами значения a и b \n",
    "\n",
    "print('a:', a)\n",
    "print('b:', b)"
   ]
  },
  {
   "cell_type": "markdown",
   "id": "6a707ac9",
   "metadata": {},
   "source": [
    "В других языках (например, C++) на это потребовалось бы как минимум три строки кода:"
   ]
  },
  {
   "cell_type": "code",
   "execution_count": 48,
   "id": "b4f5bd11",
   "metadata": {},
   "outputs": [],
   "source": [
    "tmp = a\n",
    "a = b\n",
    "b = tmp"
   ]
  }
 ],
 "metadata": {
  "kernelspec": {
   "display_name": "Python 3 (ipykernel)",
   "language": "python",
   "name": "python3"
  },
  "language_info": {
   "codemirror_mode": {
    "name": "ipython",
    "version": 3
   },
   "file_extension": ".py",
   "mimetype": "text/x-python",
   "name": "python",
   "nbconvert_exporter": "python",
   "pygments_lexer": "ipython3",
   "version": "3.10.4"
  }
 },
 "nbformat": 4,
 "nbformat_minor": 5
}
